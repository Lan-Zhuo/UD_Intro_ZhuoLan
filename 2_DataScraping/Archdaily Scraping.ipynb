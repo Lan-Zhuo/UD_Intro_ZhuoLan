{
 "cells": [
  {
   "cell_type": "code",
   "execution_count": 1,
   "id": "30c30590",
   "metadata": {},
   "outputs": [
    {
     "name": "stdout",
     "output_type": "stream",
     "text": [
      "Collecting selenium\n",
      "  Obtaining dependency information for selenium from https://files.pythonhosted.org/packages/55/56/faf2aa238a0a8fbb7d5c11345a0f5e96358b7a3e144ba17b8b1c64f0b19a/selenium-4.13.0-py3-none-any.whl.metadata\n",
      "  Downloading selenium-4.13.0-py3-none-any.whl.metadata (6.9 kB)\n",
      "Requirement already satisfied: urllib3[socks]<3,>=1.26 in ./anaconda3/envs/py38/lib/python3.8/site-packages (from selenium) (1.26.16)\n",
      "Collecting trio~=0.17 (from selenium)\n",
      "  Obtaining dependency information for trio~=0.17 from https://files.pythonhosted.org/packages/a3/dd/b61fa61b186d3267ef3903048fbee29132963ae762fb70b08d4a3cd6f7aa/trio-0.22.2-py3-none-any.whl.metadata\n",
      "  Downloading trio-0.22.2-py3-none-any.whl.metadata (4.7 kB)\n",
      "Collecting trio-websocket~=0.9 (from selenium)\n",
      "  Obtaining dependency information for trio-websocket~=0.9 from https://files.pythonhosted.org/packages/48/be/a9ae5f50cad5b6f85bd2574c2c923730098530096e170c1ce7452394d7aa/trio_websocket-0.11.1-py3-none-any.whl.metadata\n",
      "  Downloading trio_websocket-0.11.1-py3-none-any.whl.metadata (4.7 kB)\n",
      "Requirement already satisfied: certifi>=2021.10.8 in ./anaconda3/envs/py38/lib/python3.8/site-packages (from selenium) (2023.7.22)\n",
      "Requirement already satisfied: attrs>=20.1.0 in ./anaconda3/envs/py38/lib/python3.8/site-packages (from trio~=0.17->selenium) (23.1.0)\n",
      "Requirement already satisfied: sortedcontainers in ./anaconda3/envs/py38/lib/python3.8/site-packages (from trio~=0.17->selenium) (2.4.0)\n",
      "Requirement already satisfied: idna in ./anaconda3/envs/py38/lib/python3.8/site-packages (from trio~=0.17->selenium) (3.4)\n",
      "Collecting outcome (from trio~=0.17->selenium)\n",
      "  Downloading outcome-1.2.0-py2.py3-none-any.whl (9.7 kB)\n",
      "Requirement already satisfied: sniffio in ./anaconda3/envs/py38/lib/python3.8/site-packages (from trio~=0.17->selenium) (1.2.0)\n",
      "Collecting exceptiongroup>=1.0.0rc9 (from trio~=0.17->selenium)\n",
      "  Obtaining dependency information for exceptiongroup>=1.0.0rc9 from https://files.pythonhosted.org/packages/ad/83/b71e58666f156a39fb29417e4c8ca4bc7400c0dd4ed9e8842ab54dc8c344/exceptiongroup-1.1.3-py3-none-any.whl.metadata\n",
      "  Downloading exceptiongroup-1.1.3-py3-none-any.whl.metadata (6.1 kB)\n",
      "Collecting wsproto>=0.14 (from trio-websocket~=0.9->selenium)\n",
      "  Downloading wsproto-1.2.0-py3-none-any.whl (24 kB)\n",
      "Requirement already satisfied: PySocks!=1.5.7,<2.0,>=1.5.6 in ./anaconda3/envs/py38/lib/python3.8/site-packages (from urllib3[socks]<3,>=1.26->selenium) (1.7.1)\n",
      "Collecting h11<1,>=0.9.0 (from wsproto>=0.14->trio-websocket~=0.9->selenium)\n",
      "  Downloading h11-0.14.0-py3-none-any.whl (58 kB)\n",
      "\u001b[2K     \u001b[90m━━━━━━━━━━━━━━━━━━━━━━━━━━━━━━━━━━━━━━━━\u001b[0m \u001b[32m58.3/58.3 kB\u001b[0m \u001b[31m2.0 MB/s\u001b[0m eta \u001b[36m0:00:00\u001b[0m\n",
      "\u001b[?25hDownloading selenium-4.13.0-py3-none-any.whl (9.5 MB)\n",
      "\u001b[2K   \u001b[90m━━━━━━━━━━━━━━━━━━━━━━━━━━━━━━━━━━━━━━━━\u001b[0m \u001b[32m9.5/9.5 MB\u001b[0m \u001b[31m9.4 MB/s\u001b[0m eta \u001b[36m0:00:00\u001b[0m00:01\u001b[0m00:01\u001b[0mm\n",
      "\u001b[?25hDownloading trio-0.22.2-py3-none-any.whl (400 kB)\n",
      "\u001b[2K   \u001b[90m━━━━━━━━━━━━━━━━━━━━━━━━━━━━━━━━━━━━━━━━\u001b[0m \u001b[32m400.2/400.2 kB\u001b[0m \u001b[31m7.1 MB/s\u001b[0m eta \u001b[36m0:00:00\u001b[0m:00:01\u001b[0m\n",
      "\u001b[?25hDownloading trio_websocket-0.11.1-py3-none-any.whl (17 kB)\n",
      "Downloading exceptiongroup-1.1.3-py3-none-any.whl (14 kB)\n",
      "Installing collected packages: outcome, h11, exceptiongroup, wsproto, trio, trio-websocket, selenium\n",
      "Successfully installed exceptiongroup-1.1.3 h11-0.14.0 outcome-1.2.0 selenium-4.13.0 trio-0.22.2 trio-websocket-0.11.1 wsproto-1.2.0\n",
      "Note: you may need to restart the kernel to use updated packages.\n"
     ]
    }
   ],
   "source": [
    "pip install selenium"
   ]
  },
  {
   "cell_type": "markdown",
   "id": "4db49e51",
   "metadata": {},
   "source": [
    "This code is very time-consuming due to the large search volume, please do not run it if unnecessary."
   ]
  },
  {
   "cell_type": "code",
   "execution_count": 1,
   "id": "b46ed38e",
   "metadata": {},
   "outputs": [],
   "source": [
    "import selenium \n",
    "from selenium import webdriver\n",
    "from selenium.webdriver.common.by import By\n",
    "from selenium.webdriver.common.keys import Keys\n",
    "from selenium.webdriver.support.ui import Select\n",
    "from selenium.webdriver.support.ui import WebDriverWait\n",
    "from selenium.webdriver.support import expected_conditions as EC\n",
    "from time import sleep"
   ]
  },
  {
   "cell_type": "code",
   "execution_count": 2,
   "id": "d8ba5573",
   "metadata": {},
   "outputs": [],
   "source": [
    "url=\"https://www.archdaily.com/\""
   ]
  },
  {
   "cell_type": "code",
   "execution_count": 3,
   "id": "0768ad0a",
   "metadata": {},
   "outputs": [],
   "source": [
    "projects_list = []\n",
    "area_list=[]\n",
    "link_list=[]\n",
    "pictures_list=[]\n",
    "problem_area=[]\n",
    "problem_picture=[]"
   ]
  },
  {
   "cell_type": "code",
   "execution_count": 4,
   "id": "639cbed3",
   "metadata": {},
   "outputs": [],
   "source": [
    "#Definate a function for geting data\n",
    "def extract_data(driver):\n",
    "    libraries=driver.find_elements(\"class name\", \"gridview__item\")\n",
    "    for i in range (len(libraries)):\n",
    "        try:\n",
    "            projects = libraries[i].find_element(\"class name\",\"gridview__entry-title\").text\n",
    "            link=libraries[i].find_element(\"css selector\", \"a.gridview__content\").get_attribute('href')\n",
    "            projects_list.append(projects)\n",
    "            link_list.append(link)\n",
    "            sleep(2)\n",
    "        except:\n",
    "            pass"
   ]
  },
  {
   "cell_type": "code",
   "execution_count": 5,
   "id": "d59d00b8",
   "metadata": {},
   "outputs": [],
   "source": [
    "#searching information about Library\n",
    "driver = webdriver.Chrome()\n",
    "driver.get(url)\n",
    "search_query = driver.find_element(\"name\",\"text\")\n",
    "search_query.send_keys('Library')\n",
    "search_query.send_keys(Keys.RETURN)\n",
    "sleep(3)\n",
    "#find Libraries in first 2 pages\n",
    "for page in range(0,4):\n",
    "    driver.find_element(\"xpath\", \"/html/body\").send_keys(Keys.SPACE)\n",
    "    sleep(2)\n",
    "    driver.find_element(\"xpath\", \"/html/body\").send_keys(Keys.SPACE)\n",
    "    sleep(2)\n",
    "    driver.find_element(\"xpath\", \"/html/body\").send_keys(Keys.SPACE)\n",
    "    sleep(2)\n",
    "    driver.find_element(\"xpath\", \"/html/body\").send_keys(Keys.SPACE)\n",
    "    sleep(2)\n",
    "    driver.find_element(\"xpath\", \"/html/body\").send_keys(Keys.SPACE)\n",
    "    sleep(5)\n",
    "extract_data(driver)\n",
    "driver.quit()"
   ]
  },
  {
   "cell_type": "code",
   "execution_count": 6,
   "id": "002e59fd",
   "metadata": {},
   "outputs": [],
   "source": [
    "#save link in a csv chart\n",
    "import csv \n",
    "with open('onlylinks.csv', 'w',newline='') as csvfile: \n",
    "    writer = csv.writer(csvfile) \n",
    "    for link in link_list:\n",
    "        writer.writerow([link])"
   ]
  },
  {
   "cell_type": "code",
   "execution_count": 7,
   "id": "dcea9335",
   "metadata": {},
   "outputs": [],
   "source": [
    "#find area and picture\n",
    "with open(\"onlylinks.csv\", 'r',encoding='utf-8') as file:\n",
    "    csvreader = csv.reader(file)\n",
    "    driver = webdriver.Chrome()\n",
    "    \n",
    "    for url in csvreader:\n",
    "        try:\n",
    "            driver.get(url[0])\n",
    "            sleep(2)\n",
    "            find_area=driver.find_element(\"xpath\",\"/html/body/div[5]/div/div[2]/article/div[2]/ul/li[2]/span[2]\").text\n",
    "            area_list.append(find_area)\n",
    "        except:\n",
    "            area_list.append(False)\n",
    "            pass\n",
    "driver.quit()"
   ]
  },
  {
   "cell_type": "code",
   "execution_count": 8,
   "id": "a4d29589",
   "metadata": {},
   "outputs": [
    {
     "name": "stdout",
     "output_type": "stream",
     "text": [
      "90\n",
      "90\n",
      "90\n"
     ]
    }
   ],
   "source": [
    "#check list\n",
    "print(len(link_list))\n",
    "print(len(projects_list))\n",
    "print(len(area_list))"
   ]
  },
  {
   "cell_type": "code",
   "execution_count": 9,
   "id": "0db45597",
   "metadata": {},
   "outputs": [],
   "source": [
    "#delet invalid projects and links\n",
    "for x in range (0,len(area_list)):\n",
    "    if area_list[x]==False:\n",
    "        problem_area.append(x)\n",
    "problem_area.reverse()\n",
    "for i in problem_area:\n",
    "    area_list.pop(i)\n",
    "    projects_list.pop(i)\n",
    "    link_list.pop(i)"
   ]
  },
  {
   "cell_type": "code",
   "execution_count": 10,
   "id": "62b9d910",
   "metadata": {},
   "outputs": [
    {
     "name": "stdout",
     "output_type": "stream",
     "text": [
      "44\n",
      "44\n",
      "44\n"
     ]
    }
   ],
   "source": [
    "#check list\n",
    "print(len(link_list))\n",
    "print(len(projects_list))\n",
    "print(len(area_list))"
   ]
  },
  {
   "cell_type": "code",
   "execution_count": 11,
   "id": "808fb717",
   "metadata": {},
   "outputs": [],
   "source": [
    "with open('onlylinks1.csv', 'w',newline='') as csvfile1: \n",
    "    writer = csv.writer(csvfile1) \n",
    "    for link in link_list:\n",
    "        writer.writerow([link])\n",
    "#find pictures' link\n",
    "with open(\"onlylinks1.csv\", 'r',encoding='utf-8') as file:\n",
    "    csvreader1 = csv.reader(file)\n",
    "    driver = webdriver.Chrome()\n",
    "    \n",
    "    for url in csvreader1:\n",
    "        try:\n",
    "            driver.get(url[0])\n",
    "            sleep(2)\n",
    "            find_pictures_link=driver.find_element(\"xpath\",\"/html/body/div[5]/div/div[2]/article/figure[1]/a\").get_attribute('href')\n",
    "            pictures_list.append(find_pictures_link)\n",
    "        except:\n",
    "            pictures_list.append(False)\n",
    "            pass        \n",
    "driver.quit()"
   ]
  },
  {
   "cell_type": "code",
   "execution_count": 12,
   "id": "db19ce8b",
   "metadata": {},
   "outputs": [
    {
     "name": "stdout",
     "output_type": "stream",
     "text": [
      "44\n",
      "44\n",
      "44\n",
      "44\n"
     ]
    }
   ],
   "source": [
    "#check list\n",
    "print(len(pictures_list))\n",
    "print(len(link_list))\n",
    "print(len(projects_list))\n",
    "print(len(area_list))"
   ]
  },
  {
   "cell_type": "code",
   "execution_count": 13,
   "id": "95382823",
   "metadata": {},
   "outputs": [],
   "source": [
    "#delet invalid picture links\n",
    "for x in range (0,len(pictures_list)):\n",
    "    if pictures_list[x]==False:\n",
    "        problem_picture.append(x)\n",
    "problem_picture.reverse()\n",
    "for i in problem_picture:\n",
    "    pictures_list.pop(i)\n",
    "    projects_list.pop(i)\n",
    "    link_list.pop(i)\n",
    "    area_list.pop(i)"
   ]
  },
  {
   "cell_type": "code",
   "execution_count": 14,
   "id": "efcb068c",
   "metadata": {},
   "outputs": [
    {
     "name": "stdout",
     "output_type": "stream",
     "text": [
      "44\n",
      "44\n",
      "44\n",
      "44\n"
     ]
    }
   ],
   "source": [
    "print(len(pictures_list))\n",
    "print(len(link_list))\n",
    "print(len(projects_list))\n",
    "print(len(area_list))"
   ]
  },
  {
   "cell_type": "code",
   "execution_count": 15,
   "id": "31fe0028",
   "metadata": {},
   "outputs": [],
   "source": [
    "#use the link to save screenshot\n",
    "with open('onlylinks2.csv', 'w',newline='') as csvfile2: \n",
    "    writer = csv.writer(csvfile2) \n",
    "    for link in pictures_list:\n",
    "        writer.writerow([link])\n",
    "with open(\"onlylinks2.csv\", 'r',encoding='utf-8') as file:\n",
    "    csvreader2 = csv.reader(file)\n",
    "    driver = webdriver.Chrome()\n",
    "    i=1\n",
    "    for url in csvreader2:\n",
    "        try:\n",
    "            driver.get(url[0])\n",
    "            sleep(2)\n",
    "            caputure_picture=driver.save_screenshot('screenshot'+str(i)+'.png')\n",
    "            i=i+1\n",
    "        except:\n",
    "            pass\n",
    "driver.quit()"
   ]
  },
  {
   "cell_type": "code",
   "execution_count": 16,
   "id": "d0995743",
   "metadata": {},
   "outputs": [],
   "source": [
    "#zip all the information in one csv\n",
    "data=zip(projects_list,area_list,link_list,pictures_list)\n",
    "with open('arcdailycatalogue.csv', 'w',newline='') as csvfile: \n",
    "    writer = csv.writer(csvfile) \n",
    "    for row in data:\n",
    "        writer.writerow(row)"
   ]
  },
  {
   "cell_type": "code",
   "execution_count": null,
   "id": "9412a127",
   "metadata": {},
   "outputs": [],
   "source": []
  }
 ],
 "metadata": {
  "kernelspec": {
   "display_name": "Python 3 (ipykernel)",
   "language": "python",
   "name": "python3"
  },
  "language_info": {
   "codemirror_mode": {
    "name": "ipython",
    "version": 3
   },
   "file_extension": ".py",
   "mimetype": "text/x-python",
   "name": "python",
   "nbconvert_exporter": "python",
   "pygments_lexer": "ipython3",
   "version": "3.8.18"
  }
 },
 "nbformat": 4,
 "nbformat_minor": 5
}
