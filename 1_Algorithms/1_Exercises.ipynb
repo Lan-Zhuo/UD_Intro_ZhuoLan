{
 "cells": [
  {
   "cell_type": "markdown",
   "id": "38e188a5",
   "metadata": {},
   "source": [
    "# Exercise 00\n",
    "Write a piece of code that allocates a list of 20 integers and initializes each element by its index multiplied by 5. Print the result."
   ]
  },
  {
   "cell_type": "code",
   "execution_count": 5,
   "id": "01aa4f35",
   "metadata": {},
   "outputs": [
    {
     "name": "stdout",
     "output_type": "stream",
     "text": [
      "please input the lower limit that you want to generate integers:2\n",
      "please input the upper limit that you want to generate integers:15\n",
      "[0, 5, 10, 15, 20, 25, 30, 35, 40, 45, 50, 55, 60, 65, 70, 75, 80, 85, 90, 95]\n"
     ]
    }
   ],
   "source": [
    "import random\n",
    "list1=[]\n",
    "lr=input('please input the lower limit that you want to generate integers:')\n",
    "ur=input('please input the upper limit that you want to generate integers:')\n",
    "for i in range (0,20):\n",
    "    x=random.randint(int(lr),int(ur))\n",
    "    list1.append(int(x))\n",
    "for i in range (0,20):\n",
    "    y=lambda x:x*5\n",
    "    list1[i]=y(i)\n",
    "print(list1)"
   ]
  },
  {
   "cell_type": "markdown",
   "id": "529d91ae",
   "metadata": {},
   "source": [
    "# Exercise 01\n",
    "Define a function that takes an integer as input, prints  all integers that it is divisable by, and returns the largest one."
   ]
  },
  {
   "cell_type": "code",
   "execution_count": 14,
   "id": "30e79132",
   "metadata": {},
   "outputs": [
    {
     "name": "stdout",
     "output_type": "stream",
     "text": [
      "please input one integer10\n",
      "5\n"
     ]
    }
   ],
   "source": [
    "list1=[]\n",
    "y=int(input('please input one integer'))\n",
    "def find_divisor(x):\n",
    "    for i in range (-x,x):\n",
    "        if i!=0:\n",
    "            if x%i==0:\n",
    "                list1.append(i)\n",
    "    print(max(list1))\n",
    "find_divisor(y)"
   ]
  },
  {
   "cell_type": "markdown",
   "id": "cfbe30d4",
   "metadata": {},
   "source": [
    "# Exercise 02\n",
    "- create a dictionary with 6 keys and values of your choice\n",
    "- write a function that takes a dictionary and a value as input and returns whether the value occurs as a key in the dictionary\n",
    "- write a function that takes a dictionary as input, and returns the dictionary but the keys are swapped with their values (resolve the issue if a value occurs twice!)"
   ]
  },
  {
   "cell_type": "code",
   "execution_count": 25,
   "id": "2123f1c6",
   "metadata": {
    "scrolled": true
   },
   "outputs": [
    {
     "name": "stdout",
     "output_type": "stream",
     "text": [
      "a\n",
      "Yes,we have this in dictionary.\n"
     ]
    }
   ],
   "source": [
    "dic1={'a':'abandon','b':'book','c':'cook','d':'divide','e':'elevator','f':'fry'}\n",
    "def lookfor(x):\n",
    "    for i in dic1:\n",
    "        if x==i:\n",
    "            print('Yes,we have this in dictionary.')\n",
    "            break\n",
    "        else:\n",
    "            print('Sorry,we do not have it in dictionary.')\n",
    "            break\n",
    "lookfor(input())"
   ]
  },
  {
   "cell_type": "code",
   "execution_count": 45,
   "id": "f817b315",
   "metadata": {},
   "outputs": [
    {
     "name": "stdout",
     "output_type": "stream",
     "text": [
      "please input a dictionary:{'a':'abandon','b':'book','c':'cook','d':'divide','e':'elevator','f':'fry'}\n",
      "{'abandon': 'a', 'book': 'b', 'cook': 'c', 'divide': 'd', 'elevator': 'e', 'fry': 'f'}\n"
     ]
    }
   ],
   "source": [
    "import ast\n",
    "def create_a_reverse_dictionary(m):\n",
    "    list1=[]\n",
    "    list2=[]\n",
    "    dictionary={}\n",
    "    for key in m:\n",
    "        list1.append(key)\n",
    "    for values in m.values():\n",
    "        list2.append(values)\n",
    "    for i in range (0,len(list1)):\n",
    "        dictionary[list2[i]]=list1[i]\n",
    "    print(dictionary)\n",
    "b=ast.literal_eval(input('please input a dictionary:'))\n",
    "create_a_reverse_dictionary(b)"
   ]
  },
  {
   "cell_type": "markdown",
   "id": "b4b4e426",
   "metadata": {},
   "source": [
    "# Exercise 03\n",
    "Define a function that creates a dictionary of the first n fibonacci numbers as values paired with their indices as keys. "
   ]
  },
  {
   "cell_type": "code",
   "execution_count": 1,
   "id": "7845b5a4",
   "metadata": {},
   "outputs": [
    {
     "name": "stdout",
     "output_type": "stream",
     "text": [
      "{0: 0, 1: 1, 2: 1, 3: 2, 4: 3, 5: 5, 6: 8, 7: 13, 8: 21, 9: 34}\n"
     ]
    }
   ],
   "source": [
    "def fibonacci_dict(n): \n",
    "    n1 = 0\n",
    "    n2 = 1\n",
    "    t=0\n",
    "    list1=[]\n",
    "    dict={}\n",
    "    while t<n:\n",
    "        list1.append(n1)\n",
    "        m = n1 + n2\n",
    "        n1 = n2\n",
    "        n2 = m\n",
    "        t=t+1\n",
    "    for i in range (0,len(list1)):\n",
    "        dict[i]=list1[i]\n",
    "    print(dict)\n",
    "fibonacci_dict(10)"
   ]
  },
  {
   "cell_type": "code",
   "execution_count": null,
   "id": "a02905e6",
   "metadata": {},
   "outputs": [],
   "source": []
  }
 ],
 "metadata": {
  "kernelspec": {
   "display_name": "Python 3 (ipykernel)",
   "language": "python",
   "name": "python3"
  },
  "language_info": {
   "codemirror_mode": {
    "name": "ipython",
    "version": 3
   },
   "file_extension": ".py",
   "mimetype": "text/x-python",
   "name": "python",
   "nbconvert_exporter": "python",
   "pygments_lexer": "ipython3",
   "version": "3.8.0"
  }
 },
 "nbformat": 4,
 "nbformat_minor": 5
}
